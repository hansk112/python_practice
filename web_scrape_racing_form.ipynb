{
  "nbformat": 4,
  "nbformat_minor": 0,
  "metadata": {
    "colab": {
      "provenance": [],
      "mount_file_id": "1_Irn001inF72Wr0SINOoN9zSR4iU9EAj",
      "authorship_tag": "ABX9TyP1QcD21g9tr/3FId7VvAl9",
      "include_colab_link": true
    },
    "kernelspec": {
      "name": "python3",
      "display_name": "Python 3"
    },
    "language_info": {
      "name": "python"
    }
  },
  "cells": [
    {
      "cell_type": "markdown",
      "metadata": {
        "id": "view-in-github",
        "colab_type": "text"
      },
      "source": [
        "<a href=\"https://colab.research.google.com/github/hansk112/python_practice/blob/main/web_scrape_racing_form.ipynb\" target=\"_parent\"><img src=\"https://colab.research.google.com/assets/colab-badge.svg\" alt=\"Open In Colab\"/></a>"
      ]
    },
    {
      "cell_type": "code",
      "execution_count": null,
      "metadata": {
        "colab": {
          "base_uri": "https://localhost:8080/"
        },
        "id": "qjp4U6SWX33Y",
        "outputId": "3f24218b-fb81-4ebd-eefe-cbdb7c8021ce"
      },
      "outputs": [
        {
          "output_type": "stream",
          "name": "stdout",
          "text": [
            "    FIN             RUNNER          JOCKEY      SP  \\\n",
            "0     1      Boasting (11)  Sam Weatherley  $14.50   \n",
            "1     2        Pizzazz (4)             NaN  $19.60   \n",
            "2     3  Diamond Thief (2)     Opie Bosson   $2.50   \n",
            "3     4       Textbook (7)       Leah Hemi  $40.00   \n",
            "4     5  Mighty Bright (9)     Ryan Elliot  $20.20   \n",
            "..  ...                ...             ...     ...   \n",
            "11   12          Toms (15)     Ryan Elliot  $35.60   \n",
            "12   13         Novak (10)  Sarah O'Malley  $78.90   \n",
            "13   14   Subtle Point (1)  Tayla Mitchell  $15.00   \n",
            "14   15    Mr Fabulous (2)   Ashvin Mudhoo  $71.30   \n",
            "15  SCR        Charms Star             SCR     NaN   \n",
            "\n",
            "                          RACE COMMENTS   POS  DAYS STAKES   WGT   CAR    LEN  \\\n",
            "0    Out well,2nd otr 1000,led 350,nice   Trl  16.0     $0  54.5  54.5    NaN   \n",
            "1   3bk inr,out wdr 400,fght,tried hard   Mid  29.0     $0  56.0  56.0   2.8L   \n",
            "2     Hndy,4th otr 1000,out,fght gamely   NaN  21.0     $0  56.5  56.5   3.1L   \n",
            "3   6bk inr,wdr cn,out 350,solid finish  Back  16.0     $0  58.0  58.0   3.2L   \n",
            "4        9th otr,3w opn 800,game finish  Back  22.0     $0  56.5  56.5   3.3L   \n",
            "..                                  ...   ...   ...    ...   ...   ...    ...   \n",
            "11    9th 3w cv,wdr cn,out,urged,no fin   Mid  14.0     $0  53.0  53.0  10.6L   \n",
            "12   15th otr,out wide cn,never in hunt  Tail  10.0     $0  53.0  53.0  14.9L   \n",
            "13    2nd ot,und rd 700,faded,distance?   Trl  21.0     $0  53.0  53.0  21.9L   \n",
            "14      Trailed,und pres 700,faded away   NaN  14.0     $0  53.0  53.0  23.2L   \n",
            "15                            Scratched   NaN   NaN    NaN   NaN   NaN    NaN   \n",
            "\n",
            "     L600    RAT  \n",
            "0   37.55  100.0  \n",
            "1   37.64   98.0  \n",
            "2   37.84   98.0  \n",
            "3   37.02   99.0  \n",
            "4   37.20   98.0  \n",
            "..    ...    ...  \n",
            "11  38.74  102.0  \n",
            "12  38.83   97.0  \n",
            "13  40.72   90.0  \n",
            "14  40.56   89.0  \n",
            "15    NaN    NaN  \n",
            "\n",
            "[126 rows x 13 columns]\n"
          ]
        }
      ],
      "source": [
        "import bs4 as bs\n",
        "import urllib.request\n",
        "import pandas as pd\n",
        "\n",
        "race_history = []\n",
        "\n",
        "for i in range(10):\n",
        "\n",
        "  source = urllib.request.urlopen(\"https://formproratings.co.nz/form/racing/results/?dt=2023-01-28&tab=4&no=\" + str(i)).read()\n",
        "\n",
        "  soup = bs.BeautifulSoup(source,\"lxml\")\n",
        "\n",
        "  table = soup.find_all(\"table\")\n",
        "\n",
        "  df = pd.read_html(str(table))[0]\n",
        "  race_history.append(df)\n",
        "\n",
        "\n",
        "df_race_history = pd.concat(race_history)\n",
        "\n",
        "print(df_race_history)\n",
        "\n",
        "df_race_history.to_csv(\"/content/drive/MyDrive/race_history/history.csv\")"
      ]
    },
    {
      "cell_type": "code",
      "source": [
        "import bs4 as bs\n",
        "import urllib.request\n",
        "import pandas as pd\n",
        "\n",
        "scrape_table = []\n",
        "year = 2023\n",
        "\n",
        "# loop through year\n",
        "for i in range(1):\n",
        "  \n",
        "# loop through months\n",
        "  for i in range(13):\n",
        "\n",
        "    src = urllib.request.urlopen(\"https://formproratings.co.nz/form/racing/select/?yy=\" + str(year)  + \"&mm=\"+ str(i) +\"&mode=results\")\n",
        "    soup = bs.BeautifulSoup(src,\"lxml\")\n",
        "\n",
        "    table = soup.find_all(\"table\")\n",
        "# find the first table\n",
        "    try:\n",
        "      df = pd.read_html(str(table))[0]\n",
        "      scrape_table.append(df)\n",
        "    except:\n",
        "      pass\n",
        "  # plus one year\n",
        "  year = year + 1\n",
        "\n",
        "df_scrape_table = pd.concat(scrape_table)\n",
        "\n",
        "df_scrape_table.to_csv(\"/content/drive/MyDrive/race_history/racing_scrape_table_2023.csv\")\n"
      ],
      "metadata": {
        "id": "PA93XYQObFwA"
      },
      "execution_count": null,
      "outputs": []
    },
    {
      "cell_type": "code",
      "source": [
        "import pandas as pd\n",
        "\n",
        "\n",
        "df_1 = pd.read_csv(\"/content/drive/MyDrive/race_history/racing_scrape_table.csv\")\n",
        "df_2 = pd.read_csv(\"/content/drive/MyDrive/race_history/racing_scrape_table_2022.csv\")\n",
        "df_3 = pd.read_csv(\"/content/drive/MyDrive/race_history/racing_scrape_table_2023.csv\")\n",
        "\n",
        "complete_scrape = df_1.append(df_2)\n",
        "\n",
        "complete_scrape = df_3.append(complete_scrape)\n",
        "\n",
        "complete_scrape_df = complete_scrape.drop_duplicates()\n",
        "\n",
        "complete_scrape_df[\"DATE\"] = complete_scrape_df[\"DATE\"]\n",
        "\n",
        "\n",
        "year_df = complete_scrape_df[\"DATE\"].str[-4:]\n",
        "\n",
        "print(year_df)\n",
        "complete_scrape_df.to_csv(\"/content/drive/MyDrive/race_history/complete_scrape.csv\")\n",
        "print(complete_scrape_df.info())\n",
        "\n"
      ],
      "metadata": {
        "colab": {
          "base_uri": "https://localhost:8080/"
        },
        "id": "MLcmvu1JZg8g",
        "outputId": "0b7ba2bb-c2ab-4eaf-b7fc-7c0782902cee"
      },
      "execution_count": 6,
      "outputs": [
        {
          "output_type": "stream",
          "name": "stdout",
          "text": [
            "<class 'pandas.core.frame.DataFrame'>\n",
            "Int64Index: 1285 entries, 0 to 577\n",
            "Data columns (total 7 columns):\n",
            " #   Column      Non-Null Count  Dtype \n",
            "---  ------      --------------  ----- \n",
            " 0   Unnamed: 0  1285 non-null   int64 \n",
            " 1   DAY         1285 non-null   object\n",
            " 2   DATE        1285 non-null   object\n",
            " 3   M           1285 non-null   object\n",
            " 4   COURSE      1285 non-null   object\n",
            " 5   CLUB        1285 non-null   object\n",
            " 6   VIEW        1285 non-null   object\n",
            "dtypes: int64(1), object(6)\n",
            "memory usage: 80.3+ KB\n",
            "None\n"
          ]
        },
        {
          "output_type": "stream",
          "name": "stderr",
          "text": [
            "<ipython-input-6-722ddefd4878>:8: FutureWarning: The frame.append method is deprecated and will be removed from pandas in a future version. Use pandas.concat instead.\n",
            "  complete_scrape = df_1.append(df_2)\n",
            "<ipython-input-6-722ddefd4878>:10: FutureWarning: The frame.append method is deprecated and will be removed from pandas in a future version. Use pandas.concat instead.\n",
            "  complete_scrape = df_3.append(complete_scrape)\n"
          ]
        }
      ]
    },
    {
      "cell_type": "code",
      "source": [
        "year_df = complete_scrape_df[\"DATE\"].str[-4:]\n",
        "\n",
        "# df1.State.str.extract(r'\\b(\\w+)$', expand=True)\n",
        "\n",
        "month_df  = complete_scrape_df[\"DATE\"].str[3:6]\n",
        "# df['UserName'] = df['Name'].str.slice(0, 3)\n",
        "\n",
        "\n",
        "print(month_df)"
      ],
      "metadata": {
        "colab": {
          "base_uri": "https://localhost:8080/"
        },
        "id": "l7ePVpLAl1n-",
        "outputId": "9fa1f964-652b-4a78-97c9-29d5297b54a5"
      },
      "execution_count": 16,
      "outputs": [
        {
          "output_type": "stream",
          "name": "stdout",
          "text": [
            "0      Jan\n",
            "1      Jan\n",
            "2      Jan\n",
            "3      Jan\n",
            "4      Jan\n",
            "      ... \n",
            "573    Dec\n",
            "574    Dec\n",
            "575    Dec\n",
            "576    Dec\n",
            "577    Dec\n",
            "Name: DATE, Length: 1285, dtype: object\n"
          ]
        }
      ]
    }
  ]
}