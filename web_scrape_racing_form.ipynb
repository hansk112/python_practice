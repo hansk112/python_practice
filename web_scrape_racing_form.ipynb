{
  "nbformat": 4,
  "nbformat_minor": 0,
  "metadata": {
    "colab": {
      "provenance": [],
      "mount_file_id": "1_Irn001inF72Wr0SINOoN9zSR4iU9EAj",
      "authorship_tag": "ABX9TyNiHTchRZ3hiqV1fsUNgFhx",
      "include_colab_link": true
    },
    "kernelspec": {
      "name": "python3",
      "display_name": "Python 3"
    },
    "language_info": {
      "name": "python"
    }
  },
  "cells": [
    {
      "cell_type": "markdown",
      "metadata": {
        "id": "view-in-github",
        "colab_type": "text"
      },
      "source": [
        "<a href=\"https://colab.research.google.com/github/hansk112/python_practice/blob/main/web_scrape_racing_form.ipynb\" target=\"_parent\"><img src=\"https://colab.research.google.com/assets/colab-badge.svg\" alt=\"Open In Colab\"/></a>"
      ]
    },
    {
      "cell_type": "code",
      "execution_count": null,
      "metadata": {
        "id": "qjp4U6SWX33Y"
      },
      "outputs": [],
      "source": [
        "import bs4 as bs\n",
        "import urllib.request\n",
        "import pandas as pd\n",
        "\n",
        "race_history = []\n",
        "\n",
        "for i in range(10):\n",
        "\n",
        "  source = urllib.request.urlopen(\"https://formproratings.co.nz/form/racing/results/?dt=2023-01-28&tab=4&no=\" + str(i)).read()\n",
        "\n",
        "  soup = bs.BeautifulSoup(source,\"lxml\")\n",
        "\n",
        "  table = soup.find_all(\"table\")\n",
        "\n",
        "  df = pd.read_html(str(table))[0]\n",
        "  race_history.append(df)\n",
        "\n",
        "\n",
        "df_race_history = pd.concat(race_history)\n",
        "\n",
        "print(df_race_history)\n",
        "\n",
        "df_race_history.to_csv(\"/content/drive/MyDrive/race_history/history.csv\")"
      ]
    },
    {
      "cell_type": "code",
      "source": [
        "# main script to scrape https://formproratings.co.nz/ racing results\n",
        "\n",
        "import bs4 as bs\n",
        "import urllib.request\n",
        "import pandas as pd\n",
        "\n",
        "race_history = []\n",
        "\n",
        "df = pd.read_csv(\"/content/drive/MyDrive/race_history/scrape_table_format.csv\")\n",
        "\n",
        "for index, row in df.iterrows():\n",
        "  \n",
        "  # loop through 12 races  \n",
        "  for race_no in range(13):\n",
        "  \n",
        "    # print(row[\"YEAR\"],row[\"MONTH_NUM\"],row[\"DAY\"],row[\"MEETING\"])\n",
        "    # use url library to open url\n",
        "    source = urllib.request.urlopen(\"https://formproratings.co.nz/form/racing/results/?dt=\" + str(row[\"YEAR\"]) +\"-\" + str(row[\"MONTH_NUM\"]) + \"-\" + str(row[\"DAY\"]) + \"&tab=\" + str(row[\"MEETING\"]) +\"&no=\" + str(race_no)).read()\n",
        "    # create the soup object\n",
        "    soup = bs.BeautifulSoup(source,\"lxml\")\n",
        "    \n",
        "\n",
        "\n",
        "\n"
      ],
      "metadata": {
        "colab": {
          "base_uri": "https://localhost:8080/",
          "height": 432
        },
        "id": "_yYzzr3rkEUe",
        "outputId": "33d9ad1a-bc9e-4097-8817-a1838aa6860b"
      },
      "execution_count": 47,
      "outputs": [
        {
          "output_type": "stream",
          "name": "stdout",
          "text": [
            "2023 1 29 2\n",
            "2023 1 29 2\n"
          ]
        },
        {
          "output_type": "error",
          "ename": "KeyboardInterrupt",
          "evalue": "ignored",
          "traceback": [
            "\u001b[0;31m---------------------------------------------------------------------------\u001b[0m",
            "\u001b[0;31mKeyboardInterrupt\u001b[0m                         Traceback (most recent call last)",
            "\u001b[0;32m<ipython-input-47-a12fc1c94f46>\u001b[0m in \u001b[0;36m<cell line: 11>\u001b[0;34m()\u001b[0m\n\u001b[1;32m     16\u001b[0m     \u001b[0mprint\u001b[0m\u001b[0;34m(\u001b[0m\u001b[0mrow\u001b[0m\u001b[0;34m[\u001b[0m\u001b[0;34m\"YEAR\"\u001b[0m\u001b[0;34m]\u001b[0m\u001b[0;34m,\u001b[0m\u001b[0mrow\u001b[0m\u001b[0;34m[\u001b[0m\u001b[0;34m\"MONTH_NUM\"\u001b[0m\u001b[0;34m]\u001b[0m\u001b[0;34m,\u001b[0m\u001b[0mrow\u001b[0m\u001b[0;34m[\u001b[0m\u001b[0;34m\"DAY\"\u001b[0m\u001b[0;34m]\u001b[0m\u001b[0;34m,\u001b[0m\u001b[0mrow\u001b[0m\u001b[0;34m[\u001b[0m\u001b[0;34m\"MEETING\"\u001b[0m\u001b[0;34m]\u001b[0m\u001b[0;34m)\u001b[0m\u001b[0;34m\u001b[0m\u001b[0;34m\u001b[0m\u001b[0m\n\u001b[1;32m     17\u001b[0m \u001b[0;34m\u001b[0m\u001b[0m\n\u001b[0;32m---> 18\u001b[0;31m     \u001b[0msource\u001b[0m \u001b[0;34m=\u001b[0m \u001b[0murllib\u001b[0m\u001b[0;34m.\u001b[0m\u001b[0mrequest\u001b[0m\u001b[0;34m.\u001b[0m\u001b[0murlopen\u001b[0m\u001b[0;34m(\u001b[0m\u001b[0;34m\"https://formproratings.co.nz/form/racing/results/?dt=\"\u001b[0m \u001b[0;34m+\u001b[0m \u001b[0mstr\u001b[0m\u001b[0;34m(\u001b[0m\u001b[0mrow\u001b[0m\u001b[0;34m[\u001b[0m\u001b[0;34m\"YEAR\"\u001b[0m\u001b[0;34m]\u001b[0m\u001b[0;34m)\u001b[0m \u001b[0;34m+\u001b[0m\u001b[0;34m\"-\"\u001b[0m \u001b[0;34m+\u001b[0m \u001b[0mstr\u001b[0m\u001b[0;34m(\u001b[0m\u001b[0mrow\u001b[0m\u001b[0;34m[\u001b[0m\u001b[0;34m\"MONTH_NUM\"\u001b[0m\u001b[0;34m]\u001b[0m\u001b[0;34m)\u001b[0m \u001b[0;34m+\u001b[0m \u001b[0;34m\"-\"\u001b[0m \u001b[0;34m+\u001b[0m \u001b[0mstr\u001b[0m\u001b[0;34m(\u001b[0m\u001b[0mrow\u001b[0m\u001b[0;34m[\u001b[0m\u001b[0;34m\"DAY\"\u001b[0m\u001b[0;34m]\u001b[0m\u001b[0;34m)\u001b[0m \u001b[0;34m+\u001b[0m \u001b[0;34m\"&tab=\"\u001b[0m \u001b[0;34m+\u001b[0m \u001b[0mstr\u001b[0m\u001b[0;34m(\u001b[0m\u001b[0mrow\u001b[0m\u001b[0;34m[\u001b[0m\u001b[0;34m\"MEETING\"\u001b[0m\u001b[0;34m]\u001b[0m\u001b[0;34m)\u001b[0m \u001b[0;34m+\u001b[0m\u001b[0;34m\"&no=\"\u001b[0m \u001b[0;34m+\u001b[0m \u001b[0mstr\u001b[0m\u001b[0;34m(\u001b[0m\u001b[0mrace_no\u001b[0m\u001b[0;34m)\u001b[0m\u001b[0;34m)\u001b[0m\u001b[0;34m.\u001b[0m\u001b[0mread\u001b[0m\u001b[0;34m(\u001b[0m\u001b[0;34m)\u001b[0m\u001b[0;34m\u001b[0m\u001b[0;34m\u001b[0m\u001b[0m\n\u001b[0m\u001b[1;32m     19\u001b[0m \u001b[0;34m\u001b[0m\u001b[0m\n\u001b[1;32m     20\u001b[0m \u001b[0;34m\u001b[0m\u001b[0m\n",
            "\u001b[0;32m/usr/lib/python3.9/urllib/request.py\u001b[0m in \u001b[0;36murlopen\u001b[0;34m(url, data, timeout, cafile, capath, cadefault, context)\u001b[0m\n\u001b[1;32m    212\u001b[0m     \u001b[0;32melse\u001b[0m\u001b[0;34m:\u001b[0m\u001b[0;34m\u001b[0m\u001b[0;34m\u001b[0m\u001b[0m\n\u001b[1;32m    213\u001b[0m         \u001b[0mopener\u001b[0m \u001b[0;34m=\u001b[0m \u001b[0m_opener\u001b[0m\u001b[0;34m\u001b[0m\u001b[0;34m\u001b[0m\u001b[0m\n\u001b[0;32m--> 214\u001b[0;31m     \u001b[0;32mreturn\u001b[0m \u001b[0mopener\u001b[0m\u001b[0;34m.\u001b[0m\u001b[0mopen\u001b[0m\u001b[0;34m(\u001b[0m\u001b[0murl\u001b[0m\u001b[0;34m,\u001b[0m \u001b[0mdata\u001b[0m\u001b[0;34m,\u001b[0m \u001b[0mtimeout\u001b[0m\u001b[0;34m)\u001b[0m\u001b[0;34m\u001b[0m\u001b[0;34m\u001b[0m\u001b[0m\n\u001b[0m\u001b[1;32m    215\u001b[0m \u001b[0;34m\u001b[0m\u001b[0m\n\u001b[1;32m    216\u001b[0m \u001b[0;32mdef\u001b[0m \u001b[0minstall_opener\u001b[0m\u001b[0;34m(\u001b[0m\u001b[0mopener\u001b[0m\u001b[0;34m)\u001b[0m\u001b[0;34m:\u001b[0m\u001b[0;34m\u001b[0m\u001b[0;34m\u001b[0m\u001b[0m\n",
            "\u001b[0;32m/usr/lib/python3.9/urllib/request.py\u001b[0m in \u001b[0;36mopen\u001b[0;34m(self, fullurl, data, timeout)\u001b[0m\n\u001b[1;32m    515\u001b[0m \u001b[0;34m\u001b[0m\u001b[0m\n\u001b[1;32m    516\u001b[0m         \u001b[0msys\u001b[0m\u001b[0;34m.\u001b[0m\u001b[0maudit\u001b[0m\u001b[0;34m(\u001b[0m\u001b[0;34m'urllib.Request'\u001b[0m\u001b[0;34m,\u001b[0m \u001b[0mreq\u001b[0m\u001b[0;34m.\u001b[0m\u001b[0mfull_url\u001b[0m\u001b[0;34m,\u001b[0m \u001b[0mreq\u001b[0m\u001b[0;34m.\u001b[0m\u001b[0mdata\u001b[0m\u001b[0;34m,\u001b[0m \u001b[0mreq\u001b[0m\u001b[0;34m.\u001b[0m\u001b[0mheaders\u001b[0m\u001b[0;34m,\u001b[0m \u001b[0mreq\u001b[0m\u001b[0;34m.\u001b[0m\u001b[0mget_method\u001b[0m\u001b[0;34m(\u001b[0m\u001b[0;34m)\u001b[0m\u001b[0;34m)\u001b[0m\u001b[0;34m\u001b[0m\u001b[0;34m\u001b[0m\u001b[0m\n\u001b[0;32m--> 517\u001b[0;31m         \u001b[0mresponse\u001b[0m \u001b[0;34m=\u001b[0m \u001b[0mself\u001b[0m\u001b[0;34m.\u001b[0m\u001b[0m_open\u001b[0m\u001b[0;34m(\u001b[0m\u001b[0mreq\u001b[0m\u001b[0;34m,\u001b[0m \u001b[0mdata\u001b[0m\u001b[0;34m)\u001b[0m\u001b[0;34m\u001b[0m\u001b[0;34m\u001b[0m\u001b[0m\n\u001b[0m\u001b[1;32m    518\u001b[0m \u001b[0;34m\u001b[0m\u001b[0m\n\u001b[1;32m    519\u001b[0m         \u001b[0;31m# post-process response\u001b[0m\u001b[0;34m\u001b[0m\u001b[0;34m\u001b[0m\u001b[0m\n",
            "\u001b[0;32m/usr/lib/python3.9/urllib/request.py\u001b[0m in \u001b[0;36m_open\u001b[0;34m(self, req, data)\u001b[0m\n\u001b[1;32m    532\u001b[0m \u001b[0;34m\u001b[0m\u001b[0m\n\u001b[1;32m    533\u001b[0m         \u001b[0mprotocol\u001b[0m \u001b[0;34m=\u001b[0m \u001b[0mreq\u001b[0m\u001b[0;34m.\u001b[0m\u001b[0mtype\u001b[0m\u001b[0;34m\u001b[0m\u001b[0;34m\u001b[0m\u001b[0m\n\u001b[0;32m--> 534\u001b[0;31m         result = self._call_chain(self.handle_open, protocol, protocol +\n\u001b[0m\u001b[1;32m    535\u001b[0m                                   '_open', req)\n\u001b[1;32m    536\u001b[0m         \u001b[0;32mif\u001b[0m \u001b[0mresult\u001b[0m\u001b[0;34m:\u001b[0m\u001b[0;34m\u001b[0m\u001b[0;34m\u001b[0m\u001b[0m\n",
            "\u001b[0;32m/usr/lib/python3.9/urllib/request.py\u001b[0m in \u001b[0;36m_call_chain\u001b[0;34m(self, chain, kind, meth_name, *args)\u001b[0m\n\u001b[1;32m    492\u001b[0m         \u001b[0;32mfor\u001b[0m \u001b[0mhandler\u001b[0m \u001b[0;32min\u001b[0m \u001b[0mhandlers\u001b[0m\u001b[0;34m:\u001b[0m\u001b[0;34m\u001b[0m\u001b[0;34m\u001b[0m\u001b[0m\n\u001b[1;32m    493\u001b[0m             \u001b[0mfunc\u001b[0m \u001b[0;34m=\u001b[0m \u001b[0mgetattr\u001b[0m\u001b[0;34m(\u001b[0m\u001b[0mhandler\u001b[0m\u001b[0;34m,\u001b[0m \u001b[0mmeth_name\u001b[0m\u001b[0;34m)\u001b[0m\u001b[0;34m\u001b[0m\u001b[0;34m\u001b[0m\u001b[0m\n\u001b[0;32m--> 494\u001b[0;31m             \u001b[0mresult\u001b[0m \u001b[0;34m=\u001b[0m \u001b[0mfunc\u001b[0m\u001b[0;34m(\u001b[0m\u001b[0;34m*\u001b[0m\u001b[0margs\u001b[0m\u001b[0;34m)\u001b[0m\u001b[0;34m\u001b[0m\u001b[0;34m\u001b[0m\u001b[0m\n\u001b[0m\u001b[1;32m    495\u001b[0m             \u001b[0;32mif\u001b[0m \u001b[0mresult\u001b[0m \u001b[0;32mis\u001b[0m \u001b[0;32mnot\u001b[0m \u001b[0;32mNone\u001b[0m\u001b[0;34m:\u001b[0m\u001b[0;34m\u001b[0m\u001b[0;34m\u001b[0m\u001b[0m\n\u001b[1;32m    496\u001b[0m                 \u001b[0;32mreturn\u001b[0m \u001b[0mresult\u001b[0m\u001b[0;34m\u001b[0m\u001b[0;34m\u001b[0m\u001b[0m\n",
            "\u001b[0;32m/usr/lib/python3.9/urllib/request.py\u001b[0m in \u001b[0;36mhttps_open\u001b[0;34m(self, req)\u001b[0m\n\u001b[1;32m   1387\u001b[0m \u001b[0;34m\u001b[0m\u001b[0m\n\u001b[1;32m   1388\u001b[0m         \u001b[0;32mdef\u001b[0m \u001b[0mhttps_open\u001b[0m\u001b[0;34m(\u001b[0m\u001b[0mself\u001b[0m\u001b[0;34m,\u001b[0m \u001b[0mreq\u001b[0m\u001b[0;34m)\u001b[0m\u001b[0;34m:\u001b[0m\u001b[0;34m\u001b[0m\u001b[0;34m\u001b[0m\u001b[0m\n\u001b[0;32m-> 1389\u001b[0;31m             return self.do_open(http.client.HTTPSConnection, req,\n\u001b[0m\u001b[1;32m   1390\u001b[0m                 context=self._context, check_hostname=self._check_hostname)\n\u001b[1;32m   1391\u001b[0m \u001b[0;34m\u001b[0m\u001b[0m\n",
            "\u001b[0;32m/usr/lib/python3.9/urllib/request.py\u001b[0m in \u001b[0;36mdo_open\u001b[0;34m(self, http_class, req, **http_conn_args)\u001b[0m\n\u001b[1;32m   1348\u001b[0m             \u001b[0;32mexcept\u001b[0m \u001b[0mOSError\u001b[0m \u001b[0;32mas\u001b[0m \u001b[0merr\u001b[0m\u001b[0;34m:\u001b[0m \u001b[0;31m# timeout error\u001b[0m\u001b[0;34m\u001b[0m\u001b[0;34m\u001b[0m\u001b[0m\n\u001b[1;32m   1349\u001b[0m                 \u001b[0;32mraise\u001b[0m \u001b[0mURLError\u001b[0m\u001b[0;34m(\u001b[0m\u001b[0merr\u001b[0m\u001b[0;34m)\u001b[0m\u001b[0;34m\u001b[0m\u001b[0;34m\u001b[0m\u001b[0m\n\u001b[0;32m-> 1350\u001b[0;31m             \u001b[0mr\u001b[0m \u001b[0;34m=\u001b[0m \u001b[0mh\u001b[0m\u001b[0;34m.\u001b[0m\u001b[0mgetresponse\u001b[0m\u001b[0;34m(\u001b[0m\u001b[0;34m)\u001b[0m\u001b[0;34m\u001b[0m\u001b[0;34m\u001b[0m\u001b[0m\n\u001b[0m\u001b[1;32m   1351\u001b[0m         \u001b[0;32mexcept\u001b[0m\u001b[0;34m:\u001b[0m\u001b[0;34m\u001b[0m\u001b[0;34m\u001b[0m\u001b[0m\n\u001b[1;32m   1352\u001b[0m             \u001b[0mh\u001b[0m\u001b[0;34m.\u001b[0m\u001b[0mclose\u001b[0m\u001b[0;34m(\u001b[0m\u001b[0;34m)\u001b[0m\u001b[0;34m\u001b[0m\u001b[0;34m\u001b[0m\u001b[0m\n",
            "\u001b[0;32m/usr/lib/python3.9/http/client.py\u001b[0m in \u001b[0;36mgetresponse\u001b[0;34m(self)\u001b[0m\n\u001b[1;32m   1375\u001b[0m         \u001b[0;32mtry\u001b[0m\u001b[0;34m:\u001b[0m\u001b[0;34m\u001b[0m\u001b[0;34m\u001b[0m\u001b[0m\n\u001b[1;32m   1376\u001b[0m             \u001b[0;32mtry\u001b[0m\u001b[0;34m:\u001b[0m\u001b[0;34m\u001b[0m\u001b[0;34m\u001b[0m\u001b[0m\n\u001b[0;32m-> 1377\u001b[0;31m                 \u001b[0mresponse\u001b[0m\u001b[0;34m.\u001b[0m\u001b[0mbegin\u001b[0m\u001b[0;34m(\u001b[0m\u001b[0;34m)\u001b[0m\u001b[0;34m\u001b[0m\u001b[0;34m\u001b[0m\u001b[0m\n\u001b[0m\u001b[1;32m   1378\u001b[0m             \u001b[0;32mexcept\u001b[0m \u001b[0mConnectionError\u001b[0m\u001b[0;34m:\u001b[0m\u001b[0;34m\u001b[0m\u001b[0;34m\u001b[0m\u001b[0m\n\u001b[1;32m   1379\u001b[0m                 \u001b[0mself\u001b[0m\u001b[0;34m.\u001b[0m\u001b[0mclose\u001b[0m\u001b[0;34m(\u001b[0m\u001b[0;34m)\u001b[0m\u001b[0;34m\u001b[0m\u001b[0;34m\u001b[0m\u001b[0m\n",
            "\u001b[0;32m/usr/lib/python3.9/http/client.py\u001b[0m in \u001b[0;36mbegin\u001b[0;34m(self)\u001b[0m\n\u001b[1;32m    318\u001b[0m         \u001b[0;31m# read until we get a non-100 response\u001b[0m\u001b[0;34m\u001b[0m\u001b[0;34m\u001b[0m\u001b[0m\n\u001b[1;32m    319\u001b[0m         \u001b[0;32mwhile\u001b[0m \u001b[0;32mTrue\u001b[0m\u001b[0;34m:\u001b[0m\u001b[0;34m\u001b[0m\u001b[0;34m\u001b[0m\u001b[0m\n\u001b[0;32m--> 320\u001b[0;31m             \u001b[0mversion\u001b[0m\u001b[0;34m,\u001b[0m \u001b[0mstatus\u001b[0m\u001b[0;34m,\u001b[0m \u001b[0mreason\u001b[0m \u001b[0;34m=\u001b[0m \u001b[0mself\u001b[0m\u001b[0;34m.\u001b[0m\u001b[0m_read_status\u001b[0m\u001b[0;34m(\u001b[0m\u001b[0;34m)\u001b[0m\u001b[0;34m\u001b[0m\u001b[0;34m\u001b[0m\u001b[0m\n\u001b[0m\u001b[1;32m    321\u001b[0m             \u001b[0;32mif\u001b[0m \u001b[0mstatus\u001b[0m \u001b[0;34m!=\u001b[0m \u001b[0mCONTINUE\u001b[0m\u001b[0;34m:\u001b[0m\u001b[0;34m\u001b[0m\u001b[0;34m\u001b[0m\u001b[0m\n\u001b[1;32m    322\u001b[0m                 \u001b[0;32mbreak\u001b[0m\u001b[0;34m\u001b[0m\u001b[0;34m\u001b[0m\u001b[0m\n",
            "\u001b[0;32m/usr/lib/python3.9/http/client.py\u001b[0m in \u001b[0;36m_read_status\u001b[0;34m(self)\u001b[0m\n\u001b[1;32m    279\u001b[0m \u001b[0;34m\u001b[0m\u001b[0m\n\u001b[1;32m    280\u001b[0m     \u001b[0;32mdef\u001b[0m \u001b[0m_read_status\u001b[0m\u001b[0;34m(\u001b[0m\u001b[0mself\u001b[0m\u001b[0;34m)\u001b[0m\u001b[0;34m:\u001b[0m\u001b[0;34m\u001b[0m\u001b[0;34m\u001b[0m\u001b[0m\n\u001b[0;32m--> 281\u001b[0;31m         \u001b[0mline\u001b[0m \u001b[0;34m=\u001b[0m \u001b[0mstr\u001b[0m\u001b[0;34m(\u001b[0m\u001b[0mself\u001b[0m\u001b[0;34m.\u001b[0m\u001b[0mfp\u001b[0m\u001b[0;34m.\u001b[0m\u001b[0mreadline\u001b[0m\u001b[0;34m(\u001b[0m\u001b[0m_MAXLINE\u001b[0m \u001b[0;34m+\u001b[0m \u001b[0;36m1\u001b[0m\u001b[0;34m)\u001b[0m\u001b[0;34m,\u001b[0m \u001b[0;34m\"iso-8859-1\"\u001b[0m\u001b[0;34m)\u001b[0m\u001b[0;34m\u001b[0m\u001b[0;34m\u001b[0m\u001b[0m\n\u001b[0m\u001b[1;32m    282\u001b[0m         \u001b[0;32mif\u001b[0m \u001b[0mlen\u001b[0m\u001b[0;34m(\u001b[0m\u001b[0mline\u001b[0m\u001b[0;34m)\u001b[0m \u001b[0;34m>\u001b[0m \u001b[0m_MAXLINE\u001b[0m\u001b[0;34m:\u001b[0m\u001b[0;34m\u001b[0m\u001b[0;34m\u001b[0m\u001b[0m\n\u001b[1;32m    283\u001b[0m             \u001b[0;32mraise\u001b[0m \u001b[0mLineTooLong\u001b[0m\u001b[0;34m(\u001b[0m\u001b[0;34m\"status line\"\u001b[0m\u001b[0;34m)\u001b[0m\u001b[0;34m\u001b[0m\u001b[0;34m\u001b[0m\u001b[0m\n",
            "\u001b[0;32m/usr/lib/python3.9/socket.py\u001b[0m in \u001b[0;36mreadinto\u001b[0;34m(self, b)\u001b[0m\n\u001b[1;32m    702\u001b[0m         \u001b[0;32mwhile\u001b[0m \u001b[0;32mTrue\u001b[0m\u001b[0;34m:\u001b[0m\u001b[0;34m\u001b[0m\u001b[0;34m\u001b[0m\u001b[0m\n\u001b[1;32m    703\u001b[0m             \u001b[0;32mtry\u001b[0m\u001b[0;34m:\u001b[0m\u001b[0;34m\u001b[0m\u001b[0;34m\u001b[0m\u001b[0m\n\u001b[0;32m--> 704\u001b[0;31m                 \u001b[0;32mreturn\u001b[0m \u001b[0mself\u001b[0m\u001b[0;34m.\u001b[0m\u001b[0m_sock\u001b[0m\u001b[0;34m.\u001b[0m\u001b[0mrecv_into\u001b[0m\u001b[0;34m(\u001b[0m\u001b[0mb\u001b[0m\u001b[0;34m)\u001b[0m\u001b[0;34m\u001b[0m\u001b[0;34m\u001b[0m\u001b[0m\n\u001b[0m\u001b[1;32m    705\u001b[0m             \u001b[0;32mexcept\u001b[0m \u001b[0mtimeout\u001b[0m\u001b[0;34m:\u001b[0m\u001b[0;34m\u001b[0m\u001b[0;34m\u001b[0m\u001b[0m\n\u001b[1;32m    706\u001b[0m                 \u001b[0mself\u001b[0m\u001b[0;34m.\u001b[0m\u001b[0m_timeout_occurred\u001b[0m \u001b[0;34m=\u001b[0m \u001b[0;32mTrue\u001b[0m\u001b[0;34m\u001b[0m\u001b[0;34m\u001b[0m\u001b[0m\n",
            "\u001b[0;32m/usr/lib/python3.9/ssl.py\u001b[0m in \u001b[0;36mrecv_into\u001b[0;34m(self, buffer, nbytes, flags)\u001b[0m\n\u001b[1;32m   1240\u001b[0m                   \u001b[0;34m\"non-zero flags not allowed in calls to recv_into() on %s\"\u001b[0m \u001b[0;34m%\u001b[0m\u001b[0;34m\u001b[0m\u001b[0;34m\u001b[0m\u001b[0m\n\u001b[1;32m   1241\u001b[0m                   self.__class__)\n\u001b[0;32m-> 1242\u001b[0;31m             \u001b[0;32mreturn\u001b[0m \u001b[0mself\u001b[0m\u001b[0;34m.\u001b[0m\u001b[0mread\u001b[0m\u001b[0;34m(\u001b[0m\u001b[0mnbytes\u001b[0m\u001b[0;34m,\u001b[0m \u001b[0mbuffer\u001b[0m\u001b[0;34m)\u001b[0m\u001b[0;34m\u001b[0m\u001b[0;34m\u001b[0m\u001b[0m\n\u001b[0m\u001b[1;32m   1243\u001b[0m         \u001b[0;32melse\u001b[0m\u001b[0;34m:\u001b[0m\u001b[0;34m\u001b[0m\u001b[0;34m\u001b[0m\u001b[0m\n\u001b[1;32m   1244\u001b[0m             \u001b[0;32mreturn\u001b[0m \u001b[0msuper\u001b[0m\u001b[0;34m(\u001b[0m\u001b[0;34m)\u001b[0m\u001b[0;34m.\u001b[0m\u001b[0mrecv_into\u001b[0m\u001b[0;34m(\u001b[0m\u001b[0mbuffer\u001b[0m\u001b[0;34m,\u001b[0m \u001b[0mnbytes\u001b[0m\u001b[0;34m,\u001b[0m \u001b[0mflags\u001b[0m\u001b[0;34m)\u001b[0m\u001b[0;34m\u001b[0m\u001b[0;34m\u001b[0m\u001b[0m\n",
            "\u001b[0;32m/usr/lib/python3.9/ssl.py\u001b[0m in \u001b[0;36mread\u001b[0;34m(self, len, buffer)\u001b[0m\n\u001b[1;32m   1098\u001b[0m         \u001b[0;32mtry\u001b[0m\u001b[0;34m:\u001b[0m\u001b[0;34m\u001b[0m\u001b[0;34m\u001b[0m\u001b[0m\n\u001b[1;32m   1099\u001b[0m             \u001b[0;32mif\u001b[0m \u001b[0mbuffer\u001b[0m \u001b[0;32mis\u001b[0m \u001b[0;32mnot\u001b[0m \u001b[0;32mNone\u001b[0m\u001b[0;34m:\u001b[0m\u001b[0;34m\u001b[0m\u001b[0;34m\u001b[0m\u001b[0m\n\u001b[0;32m-> 1100\u001b[0;31m                 \u001b[0;32mreturn\u001b[0m \u001b[0mself\u001b[0m\u001b[0;34m.\u001b[0m\u001b[0m_sslobj\u001b[0m\u001b[0;34m.\u001b[0m\u001b[0mread\u001b[0m\u001b[0;34m(\u001b[0m\u001b[0mlen\u001b[0m\u001b[0;34m,\u001b[0m \u001b[0mbuffer\u001b[0m\u001b[0;34m)\u001b[0m\u001b[0;34m\u001b[0m\u001b[0;34m\u001b[0m\u001b[0m\n\u001b[0m\u001b[1;32m   1101\u001b[0m             \u001b[0;32melse\u001b[0m\u001b[0;34m:\u001b[0m\u001b[0;34m\u001b[0m\u001b[0;34m\u001b[0m\u001b[0m\n\u001b[1;32m   1102\u001b[0m                 \u001b[0;32mreturn\u001b[0m \u001b[0mself\u001b[0m\u001b[0;34m.\u001b[0m\u001b[0m_sslobj\u001b[0m\u001b[0;34m.\u001b[0m\u001b[0mread\u001b[0m\u001b[0;34m(\u001b[0m\u001b[0mlen\u001b[0m\u001b[0;34m)\u001b[0m\u001b[0;34m\u001b[0m\u001b[0;34m\u001b[0m\u001b[0m\n",
            "\u001b[0;31mKeyboardInterrupt\u001b[0m: "
          ]
        }
      ]
    },
    {
      "cell_type": "code",
      "source": [],
      "metadata": {
        "id": "mUnNLK3glmuK"
      },
      "execution_count": null,
      "outputs": []
    },
    {
      "cell_type": "markdown",
      "source": [],
      "metadata": {
        "id": "ZBk8CepXlnKc"
      }
    },
    {
      "cell_type": "code",
      "source": [],
      "metadata": {
        "id": "tJT4-rHoln7y"
      },
      "execution_count": null,
      "outputs": []
    },
    {
      "cell_type": "code",
      "source": [],
      "metadata": {
        "id": "73IZI0VsloKH"
      },
      "execution_count": null,
      "outputs": []
    },
    {
      "cell_type": "code",
      "source": [
        "import bs4 as bs\n",
        "import urllib.request\n",
        "import pandas as pd\n",
        "\n",
        "scrape_table = []\n",
        "year = 2023\n",
        "\n",
        "# loop through year\n",
        "for i in range(1):\n",
        "  \n",
        "# loop through months\n",
        "  for i in range(13):\n",
        "\n",
        "    src = urllib.request.urlopen(\"https://formproratings.co.nz/form/racing/select/?yy=\" + str(year)  + \"&mm=\"+ str(i) +\"&mode=results\")\n",
        "    soup = bs.BeautifulSoup(src,\"lxml\")\n",
        "\n",
        "    table = soup.find_all(\"table\")\n",
        "# find the first table\n",
        "    try:\n",
        "      df = pd.read_html(str(table))[0]\n",
        "      scrape_table.append(df)\n",
        "    except:\n",
        "      pass\n",
        "  # plus one year\n",
        "  year = year + 1\n",
        "\n",
        "df_scrape_table = pd.concat(scrape_table)\n",
        "\n",
        "df_scrape_table.to_csv(\"/content/drive/MyDrive/race_history/racing_scrape_table_2023.csv\")\n"
      ],
      "metadata": {
        "id": "PA93XYQObFwA"
      },
      "execution_count": null,
      "outputs": []
    },
    {
      "cell_type": "code",
      "source": [
        "import pandas as pd\n",
        "\n",
        "\n",
        "df_1 = pd.read_csv(\"/content/drive/MyDrive/race_history/racing_scrape_table.csv\")\n",
        "df_2 = pd.read_csv(\"/content/drive/MyDrive/race_history/racing_scrape_table_2022.csv\")\n",
        "df_3 = pd.read_csv(\"/content/drive/MyDrive/race_history/racing_scrape_table_2023.csv\")\n",
        "\n",
        "complete_scrape = df_1.append(df_2)\n",
        "\n",
        "complete_scrape = df_3.append(complete_scrape)\n",
        "\n",
        "complete_scrape_df = complete_scrape.drop_duplicates()\n",
        "\n",
        "complete_scrape_df[\"DATE\"] = complete_scrape_df[\"DATE\"]\n",
        "\n",
        "year_df = complete_scrape_df[\"DATE\"].str[-4:]\n",
        "\n",
        "complete_scrape_df.to_csv(\"/content/drive/MyDrive/race_history/complete_scrape.csv\")\n",
        "# print(complete_scrape_df.info())\n",
        "\n",
        "# format columns for scraping\n",
        "\n",
        "# return 3 characters of month Jan Feb etc.\n",
        "complete_scrape_df[\"MONTH\"]  = complete_scrape_df[\"DATE\"].str[3:6]\n",
        "# return 4 characters right to left to return year 2022 etc.\n",
        "complete_scrape_df[\"YEAR\"]   = complete_scrape_df[\"DATE\"].str[-4:]\n",
        "# return 2 characters of meeting 2,4 10 etc. (removes white space at the end)\n",
        "complete_scrape_df[\"MEETING\"] = complete_scrape_df[\"M\"].str[1:3]\n",
        "# return 2 characters starting from left to right creates a new column \"DAY\"\n",
        "complete_scrape_df[\"DAY\"] = complete_scrape_df[\"DATE\"].str[0:2]\n",
        "\n",
        "# creates a new column MONTH_NUM and converts \"Jan\" to 01 based on MONTH column\n",
        "complete_scrape_df.loc[complete_scrape_df['MONTH']==\"Jan\",'MONTH_NUM'] = '01'\n",
        "complete_scrape_df.loc[complete_scrape_df['MONTH']==\"Feb\",'MONTH_NUM'] = '02'\n",
        "complete_scrape_df.loc[complete_scrape_df['MONTH']==\"Mar\",'MONTH_NUM'] = '03'\n",
        "complete_scrape_df.loc[complete_scrape_df['MONTH']==\"Apr\",'MONTH_NUM'] = '04'\n",
        "complete_scrape_df.loc[complete_scrape_df['MONTH']==\"May\",'MONTH_NUM'] = '05'\n",
        "complete_scrape_df.loc[complete_scrape_df['MONTH']==\"Jun\",'MONTH_NUM'] = '06'\n",
        "complete_scrape_df.loc[complete_scrape_df['MONTH']==\"Jul\",'MONTH_NUM'] = '07'\n",
        "complete_scrape_df.loc[complete_scrape_df['MONTH']==\"Aug\",'MONTH_NUM'] = '08'\n",
        "complete_scrape_df.loc[complete_scrape_df['MONTH']==\"Sep\",'MONTH_NUM'] = '09'\n",
        "complete_scrape_df.loc[complete_scrape_df['MONTH']==\"Oct\",'MONTH_NUM'] = '10'\n",
        "complete_scrape_df.loc[complete_scrape_df['MONTH']==\"Nov\",'MONTH_NUM'] = '11'\n",
        "complete_scrape_df.loc[complete_scrape_df['MONTH']==\"Dec\",'MONTH_NUM'] = '12'\n",
        "\n",
        "print(complete_scrape_df.head())\n",
        "\n",
        "\n",
        "complete_scrape_df.to_csv(\"/content/drive/MyDrive/race_history/scrape_table_format.csv\")"
      ],
      "metadata": {
        "colab": {
          "base_uri": "https://localhost:8080/"
        },
        "id": "MLcmvu1JZg8g",
        "outputId": "f62793f1-6025-4dcb-c1f1-34a4d24f6e1b"
      },
      "execution_count": 37,
      "outputs": [
        {
          "output_type": "stream",
          "name": "stdout",
          "text": [
            "   Unnamed: 0 DAY             DATE   M          COURSE  \\\n",
            "0           0  29  29 January 2023  M2           Taupo   \n",
            "1           1  28  28 January 2023  M4        Trentham   \n",
            "2           2  28  28 January 2023  M6  Riccarton Park   \n",
            "3           3  26  26 January 2023  M4        Hastings   \n",
            "4           4  25  25 January 2023  M2        Matamata   \n",
            "\n",
            "                                CLUB  \\\n",
            "0                       Racing Taupo   \n",
            "1                    Wellington R.C.   \n",
            "2  Canterbury Racing-Canterbury J.C.   \n",
            "3            Hawke's Bay Racing Inc.   \n",
            "4                    Racing Matamata   \n",
            "\n",
            "                                               VIEW MONTH  YEAR MEETING  \\\n",
            "0  .fusion-button.button-1{width:auto;}View Results   Jan  2023       2   \n",
            "1  .fusion-button.button-1{width:auto;}View Results   Jan  2023       4   \n",
            "2  .fusion-button.button-1{width:auto;}View Results   Jan  2023       6   \n",
            "3  .fusion-button.button-1{width:auto;}View Results   Jan  2023       4   \n",
            "4  .fusion-button.button-1{width:auto;}View Results   Jan  2023       2   \n",
            "\n",
            "  MONTH_NUM  \n",
            "0        01  \n",
            "1        01  \n",
            "2        01  \n",
            "3        01  \n",
            "4        01  \n"
          ]
        },
        {
          "output_type": "stream",
          "name": "stderr",
          "text": [
            "<ipython-input-37-921af5f2df0d>:8: FutureWarning: The frame.append method is deprecated and will be removed from pandas in a future version. Use pandas.concat instead.\n",
            "  complete_scrape = df_1.append(df_2)\n",
            "<ipython-input-37-921af5f2df0d>:10: FutureWarning: The frame.append method is deprecated and will be removed from pandas in a future version. Use pandas.concat instead.\n",
            "  complete_scrape = df_3.append(complete_scrape)\n",
            "<ipython-input-37-921af5f2df0d>:14: SettingWithCopyWarning: \n",
            "A value is trying to be set on a copy of a slice from a DataFrame.\n",
            "Try using .loc[row_indexer,col_indexer] = value instead\n",
            "\n",
            "See the caveats in the documentation: https://pandas.pydata.org/pandas-docs/stable/user_guide/indexing.html#returning-a-view-versus-a-copy\n",
            "  complete_scrape_df[\"DATE\"] = complete_scrape_df[\"DATE\"]\n",
            "<ipython-input-37-921af5f2df0d>:24: SettingWithCopyWarning: \n",
            "A value is trying to be set on a copy of a slice from a DataFrame.\n",
            "Try using .loc[row_indexer,col_indexer] = value instead\n",
            "\n",
            "See the caveats in the documentation: https://pandas.pydata.org/pandas-docs/stable/user_guide/indexing.html#returning-a-view-versus-a-copy\n",
            "  complete_scrape_df[\"MONTH\"]  = complete_scrape_df[\"DATE\"].str[3:6]\n",
            "<ipython-input-37-921af5f2df0d>:26: SettingWithCopyWarning: \n",
            "A value is trying to be set on a copy of a slice from a DataFrame.\n",
            "Try using .loc[row_indexer,col_indexer] = value instead\n",
            "\n",
            "See the caveats in the documentation: https://pandas.pydata.org/pandas-docs/stable/user_guide/indexing.html#returning-a-view-versus-a-copy\n",
            "  complete_scrape_df[\"YEAR\"]   = complete_scrape_df[\"DATE\"].str[-4:]\n",
            "<ipython-input-37-921af5f2df0d>:28: SettingWithCopyWarning: \n",
            "A value is trying to be set on a copy of a slice from a DataFrame.\n",
            "Try using .loc[row_indexer,col_indexer] = value instead\n",
            "\n",
            "See the caveats in the documentation: https://pandas.pydata.org/pandas-docs/stable/user_guide/indexing.html#returning-a-view-versus-a-copy\n",
            "  complete_scrape_df[\"MEETING\"] = complete_scrape_df[\"M\"].str[1:3]\n",
            "<ipython-input-37-921af5f2df0d>:30: SettingWithCopyWarning: \n",
            "A value is trying to be set on a copy of a slice from a DataFrame.\n",
            "Try using .loc[row_indexer,col_indexer] = value instead\n",
            "\n",
            "See the caveats in the documentation: https://pandas.pydata.org/pandas-docs/stable/user_guide/indexing.html#returning-a-view-versus-a-copy\n",
            "  complete_scrape_df[\"DAY\"] = complete_scrape_df[\"DATE\"].str[0:2]\n",
            "<ipython-input-37-921af5f2df0d>:33: SettingWithCopyWarning: \n",
            "A value is trying to be set on a copy of a slice from a DataFrame.\n",
            "Try using .loc[row_indexer,col_indexer] = value instead\n",
            "\n",
            "See the caveats in the documentation: https://pandas.pydata.org/pandas-docs/stable/user_guide/indexing.html#returning-a-view-versus-a-copy\n",
            "  complete_scrape_df.loc[complete_scrape_df['MONTH']==\"Jan\",'MONTH_NUM'] = '01'\n"
          ]
        }
      ]
    },
    {
      "cell_type": "code",
      "source": [
        "# complete_scrape_df = complete_scrape_df[\"DATE\"].str[-4:]\n",
        "\n",
        "# df1.State.str.extract(r'\\b(\\w+)$', expand=True)\n",
        "\n",
        "# return 3 characters of month Jan Feb etc.\n",
        "complete_scrape_df[\"MONTH\"]  = complete_scrape_df[\"DATE\"].str[3:6]\n",
        "# return 4 characters right to left to return year 2022 etc.\n",
        "complete_scrape_df[\"YEAR\"]   = complete_scrape_df[\"DATE\"].str[-4:]\n",
        "# return 2 characters of meeting 2,4 10 etc. (removes white space at the end)\n",
        "complete_scrape_df[\"MEETING\"] = complete_scrape_df[\"M\"].str[1:3]\n",
        "# return 2 characters starting from left to right creates a new column \"DAY\"\n",
        "complete_scrape_df[\"DAY\"] = complete_scrape_df[\"DATE\"].str[0:2]\n",
        "\n",
        "\n",
        "\n",
        "# df['UserName'] = df['Name'].str.slice(0, 3)\n",
        "\n",
        "print(complete_scrape_df[\"DAY\"].unique())\n",
        "# print(complete_scrape_df[\"MONTH\"].unique())\n",
        "# print(complete_scrape_df[\"YEAR\"].unique())\n",
        "# print(complete_scrape_df[\"MEETING\"].unique())\n",
        "# print(month_df)"
      ],
      "metadata": {
        "colab": {
          "base_uri": "https://localhost:8080/"
        },
        "id": "l7ePVpLAl1n-",
        "outputId": "eba56fa1-aa9e-4127-b9d4-fb0056f0c978"
      },
      "execution_count": 35,
      "outputs": [
        {
          "output_type": "stream",
          "name": "stdout",
          "text": [
            "['29' '28' '26' '25' '21' '19' '18' '14' '13' '12' '11' '08' '07' '06'\n",
            " '05' '04' '03' '02' '01' '24' '23' '22' '17' '16' '15' '10' '09' '20'\n",
            " '30' '31' '27']\n"
          ]
        },
        {
          "output_type": "stream",
          "name": "stderr",
          "text": [
            "<ipython-input-35-94d43ffbafbe>:6: SettingWithCopyWarning: \n",
            "A value is trying to be set on a copy of a slice from a DataFrame.\n",
            "Try using .loc[row_indexer,col_indexer] = value instead\n",
            "\n",
            "See the caveats in the documentation: https://pandas.pydata.org/pandas-docs/stable/user_guide/indexing.html#returning-a-view-versus-a-copy\n",
            "  complete_scrape_df[\"MONTH\"]  = complete_scrape_df[\"DATE\"].str[3:6]\n",
            "<ipython-input-35-94d43ffbafbe>:8: SettingWithCopyWarning: \n",
            "A value is trying to be set on a copy of a slice from a DataFrame.\n",
            "Try using .loc[row_indexer,col_indexer] = value instead\n",
            "\n",
            "See the caveats in the documentation: https://pandas.pydata.org/pandas-docs/stable/user_guide/indexing.html#returning-a-view-versus-a-copy\n",
            "  complete_scrape_df[\"YEAR\"]   = complete_scrape_df[\"DATE\"].str[-4:]\n",
            "<ipython-input-35-94d43ffbafbe>:10: SettingWithCopyWarning: \n",
            "A value is trying to be set on a copy of a slice from a DataFrame.\n",
            "Try using .loc[row_indexer,col_indexer] = value instead\n",
            "\n",
            "See the caveats in the documentation: https://pandas.pydata.org/pandas-docs/stable/user_guide/indexing.html#returning-a-view-versus-a-copy\n",
            "  complete_scrape_df[\"MEETING\"] = complete_scrape_df[\"M\"].str[1:3]\n",
            "<ipython-input-35-94d43ffbafbe>:12: SettingWithCopyWarning: \n",
            "A value is trying to be set on a copy of a slice from a DataFrame.\n",
            "Try using .loc[row_indexer,col_indexer] = value instead\n",
            "\n",
            "See the caveats in the documentation: https://pandas.pydata.org/pandas-docs/stable/user_guide/indexing.html#returning-a-view-versus-a-copy\n",
            "  complete_scrape_df[\"DAY\"] = complete_scrape_df[\"DATE\"].str[0:2]\n"
          ]
        }
      ]
    },
    {
      "cell_type": "code",
      "source": [
        "print(complete_scrape_df[\"M\"].unique())"
      ],
      "metadata": {
        "colab": {
          "base_uri": "https://localhost:8080/"
        },
        "id": "v8NiOZXwWE2F",
        "outputId": "cb8ccd0d-288c-4345-c63e-cb35158d1920"
      },
      "execution_count": 25,
      "outputs": [
        {
          "output_type": "stream",
          "name": "stdout",
          "text": [
            "['M2' 'M4' 'M6' 'M3' 'M10' 'M7' 'M8' 'M5' 'M9']\n"
          ]
        }
      ]
    },
    {
      "cell_type": "code",
      "source": [
        "print(complete_scrape_df[\"M\"][1:3].str.strip())\n"
      ],
      "metadata": {
        "colab": {
          "base_uri": "https://localhost:8080/"
        },
        "id": "OBLWB37lXxkt",
        "outputId": "43aba6a0-77b2-4767-a3d1-d2492bb53e8f"
      },
      "execution_count": 24,
      "outputs": [
        {
          "output_type": "stream",
          "name": "stdout",
          "text": [
            "1    M4\n",
            "2    M6\n",
            "Name: M, dtype: object\n"
          ]
        }
      ]
    },
    {
      "cell_type": "code",
      "source": [
        "# print(complete_scrape_df.head())\n",
        "\n",
        "complete_scrape_df.loc[complete_scrape_df['MONTH']==\"Jan\",'MONTH_NUM'] = '01'\n",
        "complete_scrape_df.loc[complete_scrape_df['MONTH']==\"Feb\",'MONTH_NUM'] = '02'\n",
        "complete_scrape_df.loc[complete_scrape_df['MONTH']==\"Mar\",'MONTH_NUM'] = '03'\n",
        "complete_scrape_df.loc[complete_scrape_df['MONTH']==\"Apr\",'MONTH_NUM'] = '04'\n",
        "complete_scrape_df.loc[complete_scrape_df['MONTH']==\"May\",'MONTH_NUM'] = '05'\n",
        "complete_scrape_df.loc[complete_scrape_df['MONTH']==\"Jun\",'MONTH_NUM'] = '06'\n",
        "complete_scrape_df.loc[complete_scrape_df['MONTH']==\"Jul\",'MONTH_NUM'] = '07'\n",
        "complete_scrape_df.loc[complete_scrape_df['MONTH']==\"Aug\",'MONTH_NUM'] = '08'\n",
        "complete_scrape_df.loc[complete_scrape_df['MONTH']==\"Sep\",'MONTH_NUM'] = '09'\n",
        "complete_scrape_df.loc[complete_scrape_df['MONTH']==\"Oct\",'MONTH_NUM'] = '10'\n",
        "complete_scrape_df.loc[complete_scrape_df['MONTH']==\"Nov\",'MONTH_NUM'] = '11'\n",
        "complete_scrape_df.loc[complete_scrape_df['MONTH']==\"Dec\",'MONTH_NUM'] = '12'\n",
        "\n",
        "print(complete_scrape_df[\"MONTH_NUM\"].unique())"
      ],
      "metadata": {
        "colab": {
          "base_uri": "https://localhost:8080/"
        },
        "id": "w0bdTTaWWyFt",
        "outputId": "0e0e3952-1eea-406a-8588-6af4bd1b46d0"
      },
      "execution_count": 31,
      "outputs": [
        {
          "output_type": "stream",
          "name": "stdout",
          "text": [
            "['01' '02' '03' '04' '08' '09' '10' '11' '12' '05' '06' '07']\n"
          ]
        }
      ]
    },
    {
      "cell_type": "code",
      "source": [
        "complete_scrape_df[\"YEAR\"] = complete_scrape_df[\"DATE\"].str[-4:]"
      ],
      "metadata": {
        "colab": {
          "base_uri": "https://localhost:8080/"
        },
        "id": "cX4Nr0qdDd5S",
        "outputId": "e9d9f5e0-3645-439f-a2ea-edb7324b5bac"
      },
      "execution_count": 5,
      "outputs": [
        {
          "output_type": "stream",
          "name": "stderr",
          "text": [
            "<ipython-input-5-8d6cd19162b7>:1: SettingWithCopyWarning: \n",
            "A value is trying to be set on a copy of a slice from a DataFrame.\n",
            "Try using .loc[row_indexer,col_indexer] = value instead\n",
            "\n",
            "See the caveats in the documentation: https://pandas.pydata.org/pandas-docs/stable/user_guide/indexing.html#returning-a-view-versus-a-copy\n",
            "  complete_scrape_df[\"YEAR\"] = complete_scrape_df[\"DATE\"].str[-4:]\n"
          ]
        }
      ]
    },
    {
      "cell_type": "code",
      "source": [
        "# complete_scrape_df[\"DATE\"].unique\n",
        "complete_scrape_df[\"DATE\"].str[0:2].unique"
      ],
      "metadata": {
        "colab": {
          "base_uri": "https://localhost:8080/"
        },
        "id": "SMV4p8a2g6bO",
        "outputId": "c61e940f-e97a-4e9b-eaa4-1cf7dd33a2df"
      },
      "execution_count": 34,
      "outputs": [
        {
          "output_type": "execute_result",
          "data": {
            "text/plain": [
              "<bound method Series.unique of 0      29\n",
              "1      28\n",
              "2      28\n",
              "3      26\n",
              "4      25\n",
              "       ..\n",
              "573    07\n",
              "574    03\n",
              "575    03\n",
              "576    02\n",
              "577    01\n",
              "Name: DATE, Length: 1285, dtype: object>"
            ]
          },
          "metadata": {},
          "execution_count": 34
        }
      ]
    }
  ]
}