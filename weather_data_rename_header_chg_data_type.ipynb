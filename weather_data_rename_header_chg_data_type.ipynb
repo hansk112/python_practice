{
  "nbformat": 4,
  "nbformat_minor": 0,
  "metadata": {
    "colab": {
      "provenance": [],
      "authorship_tag": "ABX9TyOesyZAjo6rgQUZol2MG/FO",
      "include_colab_link": true
    },
    "kernelspec": {
      "name": "python3",
      "display_name": "Python 3"
    },
    "language_info": {
      "name": "python"
    }
  },
  "cells": [
    {
      "cell_type": "markdown",
      "metadata": {
        "id": "view-in-github",
        "colab_type": "text"
      },
      "source": [
        "<a href=\"https://colab.research.google.com/github/hansk112/python_practice/blob/main/weather_data_rename_header_chg_data_type.ipynb\" target=\"_parent\"><img src=\"https://colab.research.google.com/assets/colab-badge.svg\" alt=\"Open In Colab\"/></a>"
      ]
    },
    {
      "cell_type": "code",
      "execution_count": 10,
      "metadata": {
        "colab": {
          "base_uri": "https://localhost:8080/"
        },
        "id": "EFc6Mv9q3rNd",
        "outputId": "673fdfc4-2965-48aa-93f9-773714497954"
      },
      "outputs": [
        {
          "output_type": "stream",
          "name": "stdout",
          "text": [
            "<class 'pandas.core.frame.DataFrame'>\n",
            "RangeIndex: 10947 entries, 1 to 10947\n",
            "Data columns (total 3 columns):\n",
            " #   Column                         Non-Null Count  Dtype \n",
            "---  ------                         --------------  ----- \n",
            " 0   Start of Interval (UTC+12:00)  10947 non-null  object\n",
            " 1   End of Interval (UTC+12:00)    10947 non-null  object\n",
            " 2   Value (mm)                     10947 non-null  object\n",
            "dtypes: object(3)\n",
            "memory usage: 256.7+ KB\n"
          ]
        }
      ],
      "source": [
        "from google.colab import auth\n",
        "import gspread\n",
        "from google.auth import default\n",
        "import pandas as pd\n",
        "\n",
        "#autenticating to google\n",
        "auth.authenticate_user()\n",
        "creds, _ = default()\n",
        "gc = gspread.authorize(creds) \n",
        "ws = gc.open_by_url(\"https://docs.google.com/spreadsheets/d/1Gl_tIpRCwrJjjkC5fWUgeh762G-z_SQxaWs1gA3YtB4/edit#gid=1831563943\")\n",
        "\n",
        "val = ws.get_worksheet(0).get_all_values()\n",
        "# print(val)\n",
        "\n",
        "df = pd.DataFrame(val)\n",
        "\n",
        "# pd.head()\n",
        "\n",
        "# set first row as column header values\n",
        "df.columns = df.iloc[0]\n",
        "\n",
        "# remove first row\n",
        "df = df[1:]\n",
        "\n",
        "# df.head()\n",
        "df.astype({\"Start of Interval (UTC+12:00)\" : \"datetime64\"})\n",
        "df.astype({\"End of Interval (UTC+12:00)\" : \"datetime64\"})\n",
        "\n",
        "df.info()\n",
        "\n",
        "# >>> df.astype({'col1': 'int32'}).dtypes\n",
        "# col1    int32\n",
        "# col2    int64\n",
        "# dtype: object\n",
        "\n",
        "# c = val.acell('A1')\n",
        "# print(c)\n",
        "# val = ws.acell('B1').value\n"
      ]
    },
    {
      "cell_type": "code",
      "source": [
        "df.info()"
      ],
      "metadata": {
        "colab": {
          "base_uri": "https://localhost:8080/"
        },
        "id": "rb3tTgPHA5qE",
        "outputId": "076c9f49-fd76-43bb-a804-2f9c581bd86d"
      },
      "execution_count": 6,
      "outputs": [
        {
          "output_type": "stream",
          "name": "stdout",
          "text": [
            "<class 'pandas.core.frame.DataFrame'>\n",
            "RangeIndex: 10947 entries, 1 to 10947\n",
            "Data columns (total 3 columns):\n",
            " #   Column                         Non-Null Count  Dtype \n",
            "---  ------                         --------------  ----- \n",
            " 0   Start of Interval (UTC+12:00)  10947 non-null  object\n",
            " 1   End of Interval (UTC+12:00)    10947 non-null  object\n",
            " 2   Value (mm)                     10947 non-null  object\n",
            "dtypes: object(3)\n",
            "memory usage: 256.7+ KB\n"
          ]
        }
      ]
    },
    {
      "cell_type": "code",
      "source": [],
      "metadata": {
        "id": "FFb7TW4742sE"
      },
      "execution_count": null,
      "outputs": []
    }
  ]
}